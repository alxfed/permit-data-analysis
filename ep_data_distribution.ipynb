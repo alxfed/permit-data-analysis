{
 "cells": [
  {
   "cell_type": "markdown",
   "metadata": {},
   "source": [
    "# Trimming the boundaries of categorization for EP permits by hand\n",
    "Of course we can apply all sorts of 'quantiles' classification but the 'psychological' categorization by humans applying for the permit and issuing it is more important, because humans 'intuitively' categorize certain types of jobs in a certain price range, which makes the probability of finding _your_ particular kind in just one of these 'psychological bins'."
   ]
  },
  {
   "cell_type": "code",
   "execution_count": 1,
   "metadata": {},
   "outputs": [],
   "source": [
    "import sqlalchemy as sqlalc\n",
    "import pandas as pd\n",
    "import sorting\n",
    "import matplotlib.pyplot as plt\n",
    "import numpy"
   ]
  },
  {
   "cell_type": "markdown",
   "metadata": {},
   "source": [
    "We take a table 'PERMIT - EASY PERMIT PROCESS' from the firstbase.sqlite and will be storing the results in secondbase.sqlite"
   ]
  },
  {
   "cell_type": "code",
   "execution_count": 3,
   "metadata": {},
   "outputs": [],
   "source": [
    "conn_source = sqlalc.create_engine(sorting.TARGET_DATABASE_URI)\n",
    "conn_target = sqlalc.create_engine(sorting.INTERM_DATABASE_URI)\n",
    "    \n",
    "permits = pd.read_sql_table(table_name='PERMIT - EASY PERMIT PROCESS', con=conn_source)"
   ]
  },
  {
   "cell_type": "markdown",
   "metadata": {},
   "source": [
    "Verify what we've ingested"
   ]
  },
  {
   "cell_type": "code",
   "execution_count": 5,
   "metadata": {},
   "outputs": [
    {
     "data": {
      "text/html": [
       "<div>\n",
       "<style scoped>\n",
       "    .dataframe tbody tr th:only-of-type {\n",
       "        vertical-align: middle;\n",
       "    }\n",
       "\n",
       "    .dataframe tbody tr th {\n",
       "        vertical-align: top;\n",
       "    }\n",
       "\n",
       "    .dataframe thead th {\n",
       "        text-align: right;\n",
       "    }\n",
       "</style>\n",
       "<table border=\"1\" class=\"dataframe\">\n",
       "  <thead>\n",
       "    <tr style=\"text-align: right;\">\n",
       "      <th></th>\n",
       "      <th>id</th>\n",
       "      <th>permit_</th>\n",
       "      <th>permit_type</th>\n",
       "      <th>review_type</th>\n",
       "      <th>application_start_date</th>\n",
       "      <th>issue_date</th>\n",
       "      <th>processing_time</th>\n",
       "      <th>street_number</th>\n",
       "      <th>street_direction</th>\n",
       "      <th>street_name</th>\n",
       "      <th>...</th>\n",
       "      <th>contact_13_type</th>\n",
       "      <th>contact_13_name</th>\n",
       "      <th>contact_13_city</th>\n",
       "      <th>contact_13_state</th>\n",
       "      <th>contact_13_zipcode</th>\n",
       "      <th>contact_14_type</th>\n",
       "      <th>contact_14_name</th>\n",
       "      <th>contact_14_city</th>\n",
       "      <th>contact_14_state</th>\n",
       "      <th>contact_14_zipcode</th>\n",
       "    </tr>\n",
       "  </thead>\n",
       "  <tbody>\n",
       "    <tr>\n",
       "      <th>0</th>\n",
       "      <td>2999424</td>\n",
       "      <td>100798057</td>\n",
       "      <td>PERMIT - EASY PERMIT PROCESS</td>\n",
       "      <td>EASY PERMIT</td>\n",
       "      <td>2018-12-19</td>\n",
       "      <td>2019-01-02</td>\n",
       "      <td>14.0</td>\n",
       "      <td>1300</td>\n",
       "      <td>N</td>\n",
       "      <td>LAKE SHORE</td>\n",
       "      <td>...</td>\n",
       "      <td>None</td>\n",
       "      <td>None</td>\n",
       "      <td>None</td>\n",
       "      <td>None</td>\n",
       "      <td>None</td>\n",
       "      <td>None</td>\n",
       "      <td>None</td>\n",
       "      <td>None</td>\n",
       "      <td>None</td>\n",
       "      <td>None</td>\n",
       "    </tr>\n",
       "    <tr>\n",
       "      <th>1</th>\n",
       "      <td>3000020</td>\n",
       "      <td>100798403</td>\n",
       "      <td>PERMIT - EASY PERMIT PROCESS</td>\n",
       "      <td>EASY PERMIT</td>\n",
       "      <td>2019-01-02</td>\n",
       "      <td>2019-01-02</td>\n",
       "      <td>0.0</td>\n",
       "      <td>3300</td>\n",
       "      <td>N</td>\n",
       "      <td>LAKE SHORE</td>\n",
       "      <td>...</td>\n",
       "      <td>None</td>\n",
       "      <td>None</td>\n",
       "      <td>None</td>\n",
       "      <td>None</td>\n",
       "      <td>None</td>\n",
       "      <td>None</td>\n",
       "      <td>None</td>\n",
       "      <td>None</td>\n",
       "      <td>None</td>\n",
       "      <td>None</td>\n",
       "    </tr>\n",
       "  </tbody>\n",
       "</table>\n",
       "<p>2 rows × 113 columns</p>\n",
       "</div>"
      ],
      "text/plain": [
       "        id    permit_                   permit_type  review_type  \\\n",
       "0  2999424  100798057  PERMIT - EASY PERMIT PROCESS  EASY PERMIT   \n",
       "1  3000020  100798403  PERMIT - EASY PERMIT PROCESS  EASY PERMIT   \n",
       "\n",
       "  application_start_date issue_date  processing_time street_number  \\\n",
       "0             2018-12-19 2019-01-02             14.0          1300   \n",
       "1             2019-01-02 2019-01-02              0.0          3300   \n",
       "\n",
       "  street_direction street_name  ... contact_13_type contact_13_name  \\\n",
       "0                N  LAKE SHORE  ...            None            None   \n",
       "1                N  LAKE SHORE  ...            None            None   \n",
       "\n",
       "  contact_13_city contact_13_state contact_13_zipcode contact_14_type  \\\n",
       "0            None             None               None            None   \n",
       "1            None             None               None            None   \n",
       "\n",
       "  contact_14_name contact_14_city contact_14_state contact_14_zipcode  \n",
       "0            None            None             None               None  \n",
       "1            None            None             None               None  \n",
       "\n",
       "[2 rows x 113 columns]"
      ]
     },
     "execution_count": 5,
     "metadata": {},
     "output_type": "execute_result"
    }
   ],
   "source": [
    "permits.head(n=2)"
   ]
  },
  {
   "cell_type": "markdown",
   "metadata": {},
   "source": [
    "The task is: to figure out the costs/numbers of the boundaries between 'normal' permits, 'big' permits, 'extra big' and 'super large'. The simplest way to do it is by plotting and changing the parameters.\n",
    "\n",
    "One column will be enough for this analysis."
   ]
  },
  {
   "cell_type": "code",
   "execution_count": 25,
   "metadata": {},
   "outputs": [
    {
     "data": {
      "text/plain": [
       "permits    14446\n",
       "dtype: int64"
      ]
     },
     "execution_count": 25,
     "metadata": {},
     "output_type": "execute_result"
    }
   ],
   "source": [
    "reported_costs = permits.loc[:, ['reported_cost']]\n",
    "mper = {'reported_cost': 'permits'}\n",
    "reported_costs = reported_costs.rename(mapper=mper, axis='columns')\n",
    "reported_costs.count(axis='index')"
   ]
  },
  {
   "cell_type": "code",
   "execution_count": 26,
   "metadata": {},
   "outputs": [
    {
     "data": {
      "text/plain": [
       "permits    13165\n",
       "dtype: int64"
      ]
     },
     "execution_count": 26,
     "metadata": {},
     "output_type": "execute_result"
    }
   ],
   "source": [
    "L_and_more_removed = reported_costs[reported_costs['permits'] < 50000]\n",
    "L_and_more_removed.count()"
   ]
  },
  {
   "cell_type": "code",
   "execution_count": 27,
   "metadata": {},
   "outputs": [
    {
     "data": {
      "text/plain": [
       "<matplotlib.axes._subplots.AxesSubplot at 0x7fc702d6cc10>"
      ]
     },
     "execution_count": 27,
     "metadata": {},
     "output_type": "execute_result"
    },
    {
     "data": {
      "image/png": "[encoded data removed]",
      "text/plain": [
       "<Figure size 720x720 with 1 Axes>"
      ]
     },
     "metadata": {
      "needs_background": "light"
     },
     "output_type": "display_data"
    }
   ],
   "source": [
    "L_and_more_removed.plot.hist(bins=10, histtype='step', figsize=(10, 10))"
   ]
  },
  {
   "cell_type": "code",
   "execution_count": 28,
   "metadata": {},
   "outputs": [
    {
     "data": {
      "text/plain": [
       "permits    1114\n",
       "dtype: int64"
      ]
     },
     "execution_count": 28,
     "metadata": {},
     "output_type": "execute_result"
    }
   ],
   "source": [
    "L_without_XL_and_more = reported_costs[(reported_costs['permits'] >= 50000) & (reported_costs['permits'] < 500000)]\n",
    "L_without_XL_and_more.count()"
   ]
  },
  {
   "cell_type": "code",
   "execution_count": 29,
   "metadata": {},
   "outputs": [
    {
     "data": {
      "text/plain": [
       "<matplotlib.axes._subplots.AxesSubplot at 0x7fc702c25310>"
      ]
     },
     "execution_count": 29,
     "metadata": {},
     "output_type": "execute_result"
    },
    {
     "data": {
      "image/png": "[encoded data removed]",
      "text/plain": [
       "<Figure size 720x720 with 1 Axes>"
      ]
     },
     "metadata": {
      "needs_background": "light"
     },
     "output_type": "display_data"
    }
   ],
   "source": [
    "L_without_XL_and_more.plot.hist(bins=10, histtype='step', figsize=(10, 10))"
   ]
  },
  {
   "cell_type": "code",
   "execution_count": 30,
   "metadata": {},
   "outputs": [
    {
     "data": {
      "text/plain": [
       "permits    161\n",
       "dtype: int64"
      ]
     },
     "execution_count": 30,
     "metadata": {},
     "output_type": "execute_result"
    }
   ],
   "source": [
    "XL_without_XXL = reported_costs[(reported_costs['permits'] >= 500000) & (reported_costs['permits'] < 5000000)]\n",
    "XL_without_XXL.count()"
   ]
  },
  {
   "cell_type": "code",
   "execution_count": 31,
   "metadata": {},
   "outputs": [
    {
     "data": {
      "text/plain": [
       "<matplotlib.axes._subplots.AxesSubplot at 0x7fc702b58190>"
      ]
     },
     "execution_count": 31,
     "metadata": {},
     "output_type": "execute_result"
    },
    {
     "data": {
      "image/png": "[encoded data removed]",
      "text/plain": [
       "<Figure size 720x720 with 1 Axes>"
      ]
     },
     "metadata": {
      "needs_background": "light"
     },
     "output_type": "display_data"
    }
   ],
   "source": [
    "XL_without_XXL.plot.hist(bins=10, histtype='step', figsize=(10, 10))"
   ]
  },
  {
   "cell_type": "code",
   "execution_count": 32,
   "metadata": {},
   "outputs": [
    {
     "data": {
      "text/plain": [
       "permits    6\n",
       "dtype: int64"
      ]
     },
     "execution_count": 32,
     "metadata": {},
     "output_type": "execute_result"
    }
   ],
   "source": [
    "XXL = reported_costs[(reported_costs['permits'] >= 5000000) & (reported_costs['permits'] < 500000000)]\n",
    "XXL.count()"
   ]
  },
  {
   "cell_type": "code",
   "execution_count": 33,
   "metadata": {},
   "outputs": [
    {
     "data": {
      "text/plain": [
       "<matplotlib.axes._subplots.AxesSubplot at 0x7fc702b5ec50>"
      ]
     },
     "execution_count": 33,
     "metadata": {},
     "output_type": "execute_result"
    },
    {
     "data": {
      "image/png": "[encoded data removed]",
      "text/plain": [
       "<Figure size 720x720 with 1 Axes>"
      ]
     },
     "metadata": {
      "needs_background": "light"
     },
     "output_type": "display_data"
    }
   ],
   "source": [
    "XXL.plot.hist(bins=5, histtype='step', figsize=(10, 10))"
   ]
  },
  {
   "cell_type": "markdown",
   "metadata": {},
   "source": [
    "These are, obviously, very rare events (in this category) already."
   ]
  },
  {
   "cell_type": "markdown",
   "metadata": {},
   "source": [
    "Fin"
   ]
  }
 ],
 "metadata": {
  "kernelspec": {
   "display_name": "Python 3",
   "language": "python",
   "name": "python3"
  },
  "language_info": {
   "codemirror_mode": {
    "name": "ipython",
    "version": 3
   },
   "file_extension": ".py",
   "mimetype": "text/x-python",
   "name": "python",
   "nbconvert_exporter": "python",
   "pygments_lexer": "ipython3",
   "version": "3.7.5"
  },
  "widgets": {
   "application/vnd.jupyter.widget-state+json": {
    "state": {},
    "version_major": 2,
    "version_minor": 0
   }
  }
 },
 "nbformat": 4,
 "nbformat_minor": 4
}
