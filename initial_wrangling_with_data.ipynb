{
 "cells": [
  {
   "cell_type": "markdown",
   "metadata": {},
   "source": [
    "### The downloaded data from the database requires some additional manipulations\n",
    "We load it, verify that everything's in place and start slicing it.\n"
   ]
  },
  {
   "cell_type": "code",
   "execution_count": 2,
   "metadata": {},
   "outputs": [],
   "source": [
    "import sqlalchemy as sqlalc\n",
    "import pandas as pd\n",
    "import sorting"
   ]
  },
  {
   "cell_type": "code",
   "execution_count": 4,
   "metadata": {},
   "outputs": [
    {
     "name": "stdout",
     "output_type": "stream",
     "text": [
      "Saved permit types to  permit_types \n",
      "\n"
     ]
    }
   ],
   "source": [
    "conn_source = sqlalc.create_engine(sorting.HOME_DATABASE_URI)\n",
    "conn_target = sqlalc.create_engine(sorting.TARGET_DATABASE_URI)\n",
    "\n",
    "permits = pd.read_sql_table(table_name=sorting.PERMITS_TABLE, con=conn_source)\n",
    "# all types of permits\n",
    "types = list(permits['permit_type'].unique())  # unique returns a numpy Array\n",
    "permit_types = pd.DataFrame(types, columns=['permit_type'])\n",
    "permit_types.to_sql(name=sorting.constants.PERMIT_TYPES_TABLE,\n",
    "                    con=conn_target, if_exists='replace',\n",
    "                    index=False)\n",
    "print('Saved permit types to ', sorting.constants.PERMIT_TYPES_TABLE, '\\n')\n"
   ]
  },
  {
   "cell_type": "code",
   "execution_count": 5,
   "metadata": {},
   "outputs": [
    {
     "name": "stdout",
     "output_type": "stream",
     "text": [
      "<class 'pandas.core.frame.DataFrame'>\n",
      "Int64Index: 15810 entries, 0 to 48956\n",
      "Columns: 113 entries, id to contact_14_zipcode\n",
      "dtypes: datetime64[ns](2), float64(6), int64(2), object(103)\n",
      "memory usage: 13.8+ MB\n",
      "Saved table  PERMIT - ELECTRIC WIRING   with its index\n",
      "\n",
      "<class 'pandas.core.frame.DataFrame'>\n",
      "Int64Index: 4036 entries, 9 to 48870\n",
      "Columns: 113 entries, id to contact_14_zipcode\n",
      "dtypes: datetime64[ns](2), float64(6), int64(2), object(103)\n",
      "memory usage: 3.5+ MB\n",
      "Saved table  PERMIT - SIGNS   with its index\n",
      "\n",
      "<class 'pandas.core.frame.DataFrame'>\n",
      "Int64Index: 9493 entries, 11 to 48902\n",
      "Columns: 113 entries, id to contact_14_zipcode\n",
      "dtypes: datetime64[ns](2), float64(6), int64(2), object(103)\n",
      "memory usage: 8.3+ MB\n",
      "Saved table  PERMIT - RENOVATION/ALTERATION   with its index\n",
      "\n",
      "<class 'pandas.core.frame.DataFrame'>\n",
      "Int64Index: 1632 entries, 19 to 48841\n",
      "Columns: 113 entries, id to contact_14_zipcode\n",
      "dtypes: datetime64[ns](2), float64(6), int64(2), object(103)\n",
      "memory usage: 1.4+ MB\n",
      "Saved table  PERMIT - NEW CONSTRUCTION   with its index\n",
      "\n",
      "<class 'pandas.core.frame.DataFrame'>\n",
      "Int64Index: 14446 entries, 41 to 48954\n",
      "Columns: 113 entries, id to contact_14_zipcode\n",
      "dtypes: datetime64[ns](2), float64(6), int64(2), object(103)\n",
      "memory usage: 12.6+ MB\n",
      "Saved table  PERMIT - EASY PERMIT PROCESS   with its index\n",
      "\n",
      "<class 'pandas.core.frame.DataFrame'>\n",
      "Int64Index: 1689 entries, 44 to 48953\n",
      "Columns: 113 entries, id to contact_14_zipcode\n",
      "dtypes: datetime64[ns](2), float64(6), int64(2), object(103)\n",
      "memory usage: 1.5+ MB\n",
      "Saved table  PERMIT - ELEVATOR EQUIPMENT   with its index\n",
      "\n",
      "<class 'pandas.core.frame.DataFrame'>\n",
      "Int64Index: 1086 entries, 170 to 48853\n",
      "Columns: 113 entries, id to contact_14_zipcode\n",
      "dtypes: datetime64[ns](2), float64(6), int64(2), object(103)\n",
      "memory usage: 967.2+ KB\n",
      "Saved table  PERMIT - WRECKING/DEMOLITION   with its index\n",
      "\n",
      "<class 'pandas.core.frame.DataFrame'>\n",
      "Int64Index: 441 entries, 554 to 48536\n",
      "Columns: 113 entries, id to contact_14_zipcode\n",
      "dtypes: datetime64[ns](2), float64(6), int64(2), object(103)\n",
      "memory usage: 392.8+ KB\n",
      "Saved table  PERMIT - SCAFFOLDING   with its index\n",
      "\n",
      "<class 'pandas.core.frame.DataFrame'>\n",
      "Int64Index: 324 entries, 1043 to 48916\n",
      "Columns: 113 entries, id to contact_14_zipcode\n",
      "dtypes: datetime64[ns](2), float64(6), int64(2), object(103)\n",
      "memory usage: 288.6+ KB\n",
      "Saved table  PERMIT - REINSTATE REVOKED PMT   with its index\n",
      "\n",
      "Done saving to:   sqlite:////home/alxfed/dbase/firstbase.sqlite\n"
     ]
    }
   ],
   "source": [
    "# create/save separate auxiliary table for each type\n",
    "for type in types:\n",
    "    permits_of_type = pd.DataFrame()\n",
    "    permits_of_type = permits[permits['permit_type'] == type]\n",
    "    permits_of_type.info() # print out a summary of what will be saved\n",
    "    permits_of_type.to_sql(name=type,\n",
    "                           con=conn_target, if_exists='replace',\n",
    "                           index=False)        # with indexes it can be reassembled\n",
    "\n",
    "    print('Saved table ', type, '  with its index\\n')\n",
    "else:\n",
    "    print('Done saving to:  ', sorting.constants.TARGET_DATABASE_URI)\n"
   ]
  }
 ],
 "metadata": {
  "kernelspec": {
   "display_name": "Python 3",
   "language": "python",
   "name": "python3"
  },
  "language_info": {
   "codemirror_mode": {
    "name": "ipython",
    "version": 3
   },
   "file_extension": ".py",
   "mimetype": "text/x-python",
   "name": "python",
   "nbconvert_exporter": "python",
   "pygments_lexer": "ipython3",
   "version": "3.7.5"
  },
  "widgets": {
   "application/vnd.jupyter.widget-state+json": {
    "state": {},
    "version_major": 2,
    "version_minor": 0
   }
  }
 },
 "nbformat": 4,
 "nbformat_minor": 4
}
