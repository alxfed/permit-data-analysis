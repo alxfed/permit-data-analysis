{
 "cells": [
  {
   "cell_type": "markdown",
   "metadata": {},
   "source": [
    "## The downloaded data from the database requires some additional manipulations\n",
    "We load it, verify that everything's in place and start slicing it.\n"
   ]
  },
  {
   "cell_type": "code",
   "execution_count": 9,
   "metadata": {},
   "outputs": [],
   "source": [
    "import sqlalchemy as sqlalc\n",
    "import pandas \n",
    "import sorting\n",
    "import numpy\n",
    "import matplotlib.pyplot as plt"
   ]
  },
  {
   "cell_type": "markdown",
   "metadata": {},
   "source": [
    "A frequently omitted part - the configuration of Pandas"
   ]
  },
  {
   "cell_type": "code",
   "execution_count": 13,
   "metadata": {},
   "outputs": [],
   "source": [
    "# Set some Pandas options\n",
    "pd.set_option('display.notebook_repr_html', False)\n",
    "pd.set_option('display.max_columns', 80)\n",
    "pd.set_option('display.max_rows', 40)"
   ]
  },
  {
   "cell_type": "markdown",
   "metadata": {},
   "source": [
    "Other options are here: https://pandas.pydata.org/pandas-docs/stable/reference/api/pandas.set_option.html"
   ]
  },
  {
   "cell_type": "code",
   "execution_count": 10,
   "metadata": {},
   "outputs": [],
   "source": [
    "conn_source = sqlalc.create_engine(sorting.HOME_DATABASE_URI)\n",
    "conn_target = sqlalc.create_engine(sorting.TARGET_DATABASE_URI)\n",
    "\n",
    "permits = pandas.read_sql_table(table_name=sorting.PERMITS_TABLE, con=conn_source)"
   ]
  },
  {
   "cell_type": "markdown",
   "metadata": {},
   "source": [
    "Let's take a 'birds eye view' (in loglog scale) at what we got here.\n",
    "I think the absolute maximum of a 'reported cost' (whatever that might be) is $10Bn, am I correct?"
   ]
  },
  {
   "cell_type": "code",
   "execution_count": 11,
   "metadata": {},
   "outputs": [
    {
     "data": {
      "image/png": "[encoded data removed]",
      "text/plain": [
       "<Figure size 864x576 with 1 Axes>"
      ]
     },
     "metadata": {
      "needs_background": "light"
     },
     "output_type": "display_data"
    }
   ],
   "source": [
    "reported_costs = permits.loc[:, ['reported_cost']]\n",
    "\n",
    "font_d = {'family': 'serif', 'color': 'black', 'weight': 'normal', 'size': 16}\n",
    "bins = numpy.logspace(start=1, stop=10, num=10, endpoint=True)\n",
    "Fig_1 = reported_costs.plot(bins=bins, kind='hist', histtype='step', loglog=True, figsize=(12,8))\n",
    "Fig_1.set_title(\"Number of permits\", fontdict=font_d)\n",
    "Fig_1.set_xlabel('Reported Costs of the permits')\n",
    "Fig_1.set_ylabel('Number of permits in a bin')\n",
    "plt.show()"
   ]
  },
  {
   "cell_type": "markdown",
   "metadata": {},
   "source": [
    "Indeed I was right! There are no 10B-dollar permits... but there are 10 in the range of 100M - 1B (!!!)"
   ]
  },
  {
   "cell_type": "markdown",
   "metadata": {},
   "source": [
    "## Labeling permits with 'sizes'\n",
    "The overall 'psychological' sizes (marked in the same way as clothing sizes) of consumers and builders is approximately like this:\n",
    "- [0,100],                    # XXS\n",
    "- (100, 1000],                # XS\n",
    "- (1000, 10000],              # S\n",
    "- (10000, 100000],            # M\n",
    "- (100000, 1000000],          # L\n",
    "- (1000000, 10000000],        # XL\n",
    "- (10000000, 100000000],      # XXL\n",
    "- (100000000, 10000000000]     # XXXL"
   ]
  },
  {
   "cell_type": "code",
   "execution_count": 12,
   "metadata": {},
   "outputs": [],
   "source": [
    "sizes = ['XXS', 'XS', 'S', 'M', 'L', 'XL', 'XXL', 'XXXL']\n",
    "bins_ends = [0.0, 100.0, 1000.0, 10000, 100000, 1000000, 10000000, 100000000, 10000000000]\n",
    "\n",
    "permits['size'] = pandas.cut(reported_costs['reported_cost'], bins=bins_ends, labels=sizes)"
   ]
  },
  {
   "cell_type": "code",
   "execution_count": null,
   "metadata": {},
   "outputs": [],
   "source": []
  },
  {
   "cell_type": "code",
   "execution_count": 7,
   "metadata": {},
   "outputs": [
    {
     "ename": "TypeError",
     "evalue": "from_bounds() argument after * must be an iterable, not int",
     "output_type": "error",
     "traceback": [
      "\u001b[0;31m---------------------------------------------------------------------------\u001b[0m",
      "\u001b[0;31mTypeError\u001b[0m                                 Traceback (most recent call last)",
      "\u001b[0;32m<ipython-input-7-123a29ad2852>\u001b[0m in \u001b[0;36m<module>\u001b[0;34m\u001b[0m\n\u001b[0;32m----> 1\u001b[0;31m \u001b[0mplt\u001b[0m\u001b[0;34m.\u001b[0m\u001b[0mfigure\u001b[0m\u001b[0;34m(\u001b[0m\u001b[0;36m10\u001b[0m\u001b[0;34m,\u001b[0m\u001b[0;36m10\u001b[0m\u001b[0;34m)\u001b[0m\u001b[0;34m\u001b[0m\u001b[0;34m\u001b[0m\u001b[0m\n\u001b[0m",
      "\u001b[0;32m~/miniconda3/lib/python3.7/site-packages/matplotlib/pyplot.py\u001b[0m in \u001b[0;36mfigure\u001b[0;34m(num, figsize, dpi, facecolor, edgecolor, frameon, FigureClass, clear, **kwargs)\u001b[0m\n\u001b[1;32m    543\u001b[0m                                         \u001b[0mframeon\u001b[0m\u001b[0;34m=\u001b[0m\u001b[0mframeon\u001b[0m\u001b[0;34m,\u001b[0m\u001b[0;34m\u001b[0m\u001b[0;34m\u001b[0m\u001b[0m\n\u001b[1;32m    544\u001b[0m                                         \u001b[0mFigureClass\u001b[0m\u001b[0;34m=\u001b[0m\u001b[0mFigureClass\u001b[0m\u001b[0;34m,\u001b[0m\u001b[0;34m\u001b[0m\u001b[0;34m\u001b[0m\u001b[0m\n\u001b[0;32m--> 545\u001b[0;31m                                         **kwargs)\n\u001b[0m\u001b[1;32m    546\u001b[0m \u001b[0;34m\u001b[0m\u001b[0m\n\u001b[1;32m    547\u001b[0m         \u001b[0;32mif\u001b[0m \u001b[0mfigLabel\u001b[0m\u001b[0;34m:\u001b[0m\u001b[0;34m\u001b[0m\u001b[0;34m\u001b[0m\u001b[0m\n",
      "\u001b[0;32m~/miniconda3/lib/python3.7/site-packages/matplotlib/backend_bases.py\u001b[0m in \u001b[0;36mnew_figure_manager\u001b[0;34m(cls, num, *args, **kwargs)\u001b[0m\n\u001b[1;32m   3249\u001b[0m         \u001b[0;32mfrom\u001b[0m \u001b[0mmatplotlib\u001b[0m\u001b[0;34m.\u001b[0m\u001b[0mfigure\u001b[0m \u001b[0;32mimport\u001b[0m \u001b[0mFigure\u001b[0m\u001b[0;34m\u001b[0m\u001b[0;34m\u001b[0m\u001b[0m\n\u001b[1;32m   3250\u001b[0m         \u001b[0mfig_cls\u001b[0m \u001b[0;34m=\u001b[0m \u001b[0mkwargs\u001b[0m\u001b[0;34m.\u001b[0m\u001b[0mpop\u001b[0m\u001b[0;34m(\u001b[0m\u001b[0;34m'FigureClass'\u001b[0m\u001b[0;34m,\u001b[0m \u001b[0mFigure\u001b[0m\u001b[0;34m)\u001b[0m\u001b[0;34m\u001b[0m\u001b[0;34m\u001b[0m\u001b[0m\n\u001b[0;32m-> 3251\u001b[0;31m         \u001b[0mfig\u001b[0m \u001b[0;34m=\u001b[0m \u001b[0mfig_cls\u001b[0m\u001b[0;34m(\u001b[0m\u001b[0;34m*\u001b[0m\u001b[0margs\u001b[0m\u001b[0;34m,\u001b[0m \u001b[0;34m**\u001b[0m\u001b[0mkwargs\u001b[0m\u001b[0;34m)\u001b[0m\u001b[0;34m\u001b[0m\u001b[0;34m\u001b[0m\u001b[0m\n\u001b[0m\u001b[1;32m   3252\u001b[0m         \u001b[0;32mreturn\u001b[0m \u001b[0mcls\u001b[0m\u001b[0;34m.\u001b[0m\u001b[0mnew_figure_manager_given_figure\u001b[0m\u001b[0;34m(\u001b[0m\u001b[0mnum\u001b[0m\u001b[0;34m,\u001b[0m \u001b[0mfig\u001b[0m\u001b[0;34m)\u001b[0m\u001b[0;34m\u001b[0m\u001b[0;34m\u001b[0m\u001b[0m\n\u001b[1;32m   3253\u001b[0m \u001b[0;34m\u001b[0m\u001b[0m\n",
      "\u001b[0;32m~/miniconda3/lib/python3.7/site-packages/matplotlib/figure.py\u001b[0m in \u001b[0;36m__init__\u001b[0;34m(self, figsize, dpi, facecolor, edgecolor, linewidth, frameon, subplotpars, tight_layout, constrained_layout)\u001b[0m\n\u001b[1;32m    349\u001b[0m             raise ValueError('figure size must be finite not '\n\u001b[1;32m    350\u001b[0m                              '{}'.format(figsize))\n\u001b[0;32m--> 351\u001b[0;31m         \u001b[0mself\u001b[0m\u001b[0;34m.\u001b[0m\u001b[0mbbox_inches\u001b[0m \u001b[0;34m=\u001b[0m \u001b[0mBbox\u001b[0m\u001b[0;34m.\u001b[0m\u001b[0mfrom_bounds\u001b[0m\u001b[0;34m(\u001b[0m\u001b[0;36m0\u001b[0m\u001b[0;34m,\u001b[0m \u001b[0;36m0\u001b[0m\u001b[0;34m,\u001b[0m \u001b[0;34m*\u001b[0m\u001b[0mfigsize\u001b[0m\u001b[0;34m)\u001b[0m\u001b[0;34m\u001b[0m\u001b[0;34m\u001b[0m\u001b[0m\n\u001b[0m\u001b[1;32m    352\u001b[0m \u001b[0;34m\u001b[0m\u001b[0m\n\u001b[1;32m    353\u001b[0m         \u001b[0mself\u001b[0m\u001b[0;34m.\u001b[0m\u001b[0mdpi_scale_trans\u001b[0m \u001b[0;34m=\u001b[0m \u001b[0mAffine2D\u001b[0m\u001b[0;34m(\u001b[0m\u001b[0;34m)\u001b[0m\u001b[0;34m.\u001b[0m\u001b[0mscale\u001b[0m\u001b[0;34m(\u001b[0m\u001b[0mdpi\u001b[0m\u001b[0;34m,\u001b[0m \u001b[0mdpi\u001b[0m\u001b[0;34m)\u001b[0m\u001b[0;34m\u001b[0m\u001b[0;34m\u001b[0m\u001b[0m\n",
      "\u001b[0;31mTypeError\u001b[0m: from_bounds() argument after * must be an iterable, not int"
     ]
    }
   ],
   "source": [
    "plt.figure(10,10)"
   ]
  },
  {
   "cell_type": "code",
   "execution_count": 15,
   "metadata": {},
   "outputs": [
    {
     "name": "stdout",
     "output_type": "stream",
     "text": [
      "Saved permit types to  permit_types \n",
      "\n"
     ]
    }
   ],
   "source": [
    "# all types of permits\n",
    "types = list(permits['permit_type'].unique())  # unique returns a numpy Array\n",
    "permit_types = pandas.DataFrame(types, columns=['permit_type'])\n",
    "permit_types.to_sql(name=sorting.constants.PERMIT_TYPES_TABLE,\n",
    "                    con=conn_target, if_exists='replace',\n",
    "                    index=False)\n",
    "print('Saved permit types to ', sorting.constants.PERMIT_TYPES_TABLE, '\\n')"
   ]
  },
  {
   "cell_type": "code",
   "execution_count": 16,
   "metadata": {},
   "outputs": [
    {
     "name": "stdout",
     "output_type": "stream",
     "text": [
      "<class 'pandas.core.frame.DataFrame'>\n",
      "Int64Index: 15808 entries, 0 to 48932\n",
      "Columns: 113 entries, id to contact_14_zipcode\n",
      "dtypes: datetime64[ns](2), float64(6), int64(2), object(103)\n",
      "memory usage: 13.7+ MB\n",
      "Saved table  PERMIT - ELECTRIC WIRING   with its index\n",
      "\n",
      "<class 'pandas.core.frame.DataFrame'>\n",
      "Int64Index: 4036 entries, 9 to 48847\n",
      "Columns: 113 entries, id to contact_14_zipcode\n",
      "dtypes: datetime64[ns](2), float64(6), int64(2), object(103)\n",
      "memory usage: 3.5+ MB\n",
      "Saved table  PERMIT - SIGNS   with its index\n",
      "\n",
      "<class 'pandas.core.frame.DataFrame'>\n",
      "Int64Index: 9493 entries, 11 to 48879\n",
      "Columns: 113 entries, id to contact_14_zipcode\n",
      "dtypes: datetime64[ns](2), float64(6), int64(2), object(103)\n",
      "memory usage: 8.3+ MB\n",
      "Saved table  PERMIT - RENOVATION/ALTERATION   with its index\n",
      "\n",
      "<class 'pandas.core.frame.DataFrame'>\n",
      "Int64Index: 1632 entries, 19 to 48818\n",
      "Columns: 113 entries, id to contact_14_zipcode\n",
      "dtypes: datetime64[ns](2), float64(6), int64(2), object(103)\n",
      "memory usage: 1.4+ MB\n",
      "Saved table  PERMIT - NEW CONSTRUCTION   with its index\n",
      "\n",
      "<class 'pandas.core.frame.DataFrame'>\n",
      "Int64Index: 14424 entries, 41 to 48930\n",
      "Columns: 113 entries, id to contact_14_zipcode\n",
      "dtypes: datetime64[ns](2), float64(6), int64(2), object(103)\n",
      "memory usage: 12.5+ MB\n",
      "Saved table  PERMIT - EASY PERMIT PROCESS   with its index\n",
      "\n",
      "<class 'pandas.core.frame.DataFrame'>\n",
      "Int64Index: 1689 entries, 44 to 48929\n",
      "Columns: 113 entries, id to contact_14_zipcode\n",
      "dtypes: datetime64[ns](2), float64(6), int64(2), object(103)\n",
      "memory usage: 1.5+ MB\n",
      "Saved table  PERMIT - ELEVATOR EQUIPMENT   with its index\n",
      "\n",
      "<class 'pandas.core.frame.DataFrame'>\n",
      "Int64Index: 1086 entries, 170 to 48830\n",
      "Columns: 113 entries, id to contact_14_zipcode\n",
      "dtypes: datetime64[ns](2), float64(6), int64(2), object(103)\n",
      "memory usage: 967.2+ KB\n",
      "Saved table  PERMIT - WRECKING/DEMOLITION   with its index\n",
      "\n",
      "<class 'pandas.core.frame.DataFrame'>\n",
      "Int64Index: 441 entries, 555 to 48512\n",
      "Columns: 113 entries, id to contact_14_zipcode\n",
      "dtypes: datetime64[ns](2), float64(6), int64(2), object(103)\n",
      "memory usage: 392.8+ KB\n",
      "Saved table  PERMIT - SCAFFOLDING   with its index\n",
      "\n",
      "<class 'pandas.core.frame.DataFrame'>\n",
      "Int64Index: 324 entries, 1043 to 48893\n",
      "Columns: 113 entries, id to contact_14_zipcode\n",
      "dtypes: datetime64[ns](2), float64(6), int64(2), object(103)\n",
      "memory usage: 288.6+ KB\n",
      "Saved table  PERMIT - REINSTATE REVOKED PMT   with its index\n",
      "\n",
      "Done saving to:   sqlite:////home/alxfed/dbase/firstbase.sqlite\n"
     ]
    }
   ],
   "source": [
    "# create/save separate auxiliary table for each type\n",
    "for type in types:\n",
    "    permits_of_type = pandas.DataFrame()\n",
    "    permits_of_type = permits[permits['permit_type'] == type]\n",
    "    permits_of_type.info() # print out a summary of what will be saved\n",
    "    permits_of_type.to_sql(name=type,\n",
    "                           con=conn_target, if_exists='replace',\n",
    "                           index=False)        # with indexes it can be reassembled\n",
    "\n",
    "    print('Saved table ', type, '  with its index\\n')\n",
    "else:\n",
    "    print('Done saving to:  ', sorting.constants.TARGET_DATABASE_URI)\n"
   ]
  },
  {
   "cell_type": "code",
   "execution_count": null,
   "metadata": {},
   "outputs": [],
   "source": []
  }
 ],
 "metadata": {
  "kernelspec": {
   "display_name": "Python 3",
   "language": "python",
   "name": "python3"
  },
  "language_info": {
   "codemirror_mode": {
    "name": "ipython",
    "version": 3
   },
   "file_extension": ".py",
   "mimetype": "text/x-python",
   "name": "python",
   "nbconvert_exporter": "python",
   "pygments_lexer": "ipython3",
   "version": "3.7.5"
  },
  "widgets": {
   "application/vnd.jupyter.widget-state+json": {
    "state": {},
    "version_major": 2,
    "version_minor": 0
   }
  }
 },
 "nbformat": 4,
 "nbformat_minor": 4
}
