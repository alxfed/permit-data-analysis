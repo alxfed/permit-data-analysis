{
 "cells": [
  {
   "cell_type": "markdown",
   "metadata": {},
   "source": [
    "# Trimming the boundaries of categorization for NC permits by hand\n",
    "Of course we can apply all sorts of 'quantiles' classification but the 'psychological' categorization by humans applying for the permit and issuing it is more important, because humans 'intuitively' categorize certain types of jobs in a certain price range, which makes the probability of finding _your_ particular kind in just one of these 'psychological bins'."
   ]
  },
  {
   "cell_type": "code",
   "execution_count": 17,
   "metadata": {},
   "outputs": [],
   "source": [
    "import sqlalchemy as sqlalc\n",
    "import pandas as pd\n",
    "import sorting\n",
    "import matplotlib.pyplot as plt\n",
    "import numpy"
   ]
  },
  {
   "cell_type": "markdown",
   "metadata": {},
   "source": [
    "We take a table 'PERMIT - NEW CONSTRUCTION' from the firstbase.sqlite and will be storing the results in secondbase.sqlite"
   ]
  },
  {
   "cell_type": "code",
   "execution_count": 18,
   "metadata": {},
   "outputs": [],
   "source": [
    "conn_source = sqlalc.create_engine(sorting.TARGET_DATABASE_URI)\n",
    "conn_target = sqlalc.create_engine(sorting.INTERM_DATABASE_URI)\n",
    "    \n",
    "permits = pd.read_sql_table(table_name='PERMIT - NEW CONSTRUCTION', con=conn_source)"
   ]
  },
  {
   "cell_type": "markdown",
   "metadata": {},
   "source": [
    "Verify what we've ingested"
   ]
  },
  {
   "cell_type": "code",
   "execution_count": 19,
   "metadata": {},
   "outputs": [
    {
     "data": {
      "text/html": [
       "<div>\n",
       "<style scoped>\n",
       "    .dataframe tbody tr th:only-of-type {\n",
       "        vertical-align: middle;\n",
       "    }\n",
       "\n",
       "    .dataframe tbody tr th {\n",
       "        vertical-align: top;\n",
       "    }\n",
       "\n",
       "    .dataframe thead th {\n",
       "        text-align: right;\n",
       "    }\n",
       "</style>\n",
       "<table border=\"1\" class=\"dataframe\">\n",
       "  <thead>\n",
       "    <tr style=\"text-align: right;\">\n",
       "      <th></th>\n",
       "      <th>id</th>\n",
       "      <th>permit_</th>\n",
       "      <th>permit_type</th>\n",
       "      <th>review_type</th>\n",
       "      <th>application_start_date</th>\n",
       "      <th>issue_date</th>\n",
       "      <th>processing_time</th>\n",
       "      <th>street_number</th>\n",
       "      <th>street_direction</th>\n",
       "      <th>street_name</th>\n",
       "      <th>...</th>\n",
       "      <th>contact_13_type</th>\n",
       "      <th>contact_13_name</th>\n",
       "      <th>contact_13_city</th>\n",
       "      <th>contact_13_state</th>\n",
       "      <th>contact_13_zipcode</th>\n",
       "      <th>contact_14_type</th>\n",
       "      <th>contact_14_name</th>\n",
       "      <th>contact_14_city</th>\n",
       "      <th>contact_14_state</th>\n",
       "      <th>contact_14_zipcode</th>\n",
       "    </tr>\n",
       "  </thead>\n",
       "  <tbody>\n",
       "    <tr>\n",
       "      <th>0</th>\n",
       "      <td>2965716</td>\n",
       "      <td>100776954</td>\n",
       "      <td>PERMIT - NEW CONSTRUCTION</td>\n",
       "      <td>DIRECT DEVELOPER SERVICES</td>\n",
       "      <td>2018-11-13</td>\n",
       "      <td>2019-01-02</td>\n",
       "      <td>50.0</td>\n",
       "      <td>1375</td>\n",
       "      <td>W</td>\n",
       "      <td>FULTON</td>\n",
       "      <td>...</td>\n",
       "      <td>None</td>\n",
       "      <td>None</td>\n",
       "      <td>None</td>\n",
       "      <td>None</td>\n",
       "      <td>None</td>\n",
       "      <td>None</td>\n",
       "      <td>None</td>\n",
       "      <td>None</td>\n",
       "      <td>None</td>\n",
       "      <td>None</td>\n",
       "    </tr>\n",
       "    <tr>\n",
       "      <th>1</th>\n",
       "      <td>2967780</td>\n",
       "      <td>100778223</td>\n",
       "      <td>PERMIT - NEW CONSTRUCTION</td>\n",
       "      <td>DIRECT DEVELOPER SERVICES</td>\n",
       "      <td>2018-12-26</td>\n",
       "      <td>2019-01-02</td>\n",
       "      <td>7.0</td>\n",
       "      <td>1220</td>\n",
       "      <td>W</td>\n",
       "      <td>JACKSON</td>\n",
       "      <td>...</td>\n",
       "      <td>None</td>\n",
       "      <td>None</td>\n",
       "      <td>None</td>\n",
       "      <td>None</td>\n",
       "      <td>None</td>\n",
       "      <td>None</td>\n",
       "      <td>None</td>\n",
       "      <td>None</td>\n",
       "      <td>None</td>\n",
       "      <td>None</td>\n",
       "    </tr>\n",
       "  </tbody>\n",
       "</table>\n",
       "<p>2 rows × 113 columns</p>\n",
       "</div>"
      ],
      "text/plain": [
       "        id    permit_                permit_type                review_type  \\\n",
       "0  2965716  100776954  PERMIT - NEW CONSTRUCTION  DIRECT DEVELOPER SERVICES   \n",
       "1  2967780  100778223  PERMIT - NEW CONSTRUCTION  DIRECT DEVELOPER SERVICES   \n",
       "\n",
       "  application_start_date issue_date  processing_time street_number  \\\n",
       "0             2018-11-13 2019-01-02             50.0          1375   \n",
       "1             2018-12-26 2019-01-02              7.0          1220   \n",
       "\n",
       "  street_direction street_name  ... contact_13_type contact_13_name  \\\n",
       "0                W      FULTON  ...            None            None   \n",
       "1                W     JACKSON  ...            None            None   \n",
       "\n",
       "  contact_13_city contact_13_state contact_13_zipcode contact_14_type  \\\n",
       "0            None             None               None            None   \n",
       "1            None             None               None            None   \n",
       "\n",
       "  contact_14_name contact_14_city contact_14_state contact_14_zipcode  \n",
       "0            None            None             None               None  \n",
       "1            None            None             None               None  \n",
       "\n",
       "[2 rows x 113 columns]"
      ]
     },
     "execution_count": 19,
     "metadata": {},
     "output_type": "execute_result"
    }
   ],
   "source": [
    "permits.head(n=2)"
   ]
  },
  {
   "cell_type": "markdown",
   "metadata": {},
   "source": [
    "The task is: to figure out the costs/numbers of the boundaries between 'small to medium' permits (marked 'S-M'), 'large' permits (marked 'L'), 'extra large' (marked 'XL') and 'super large' (marked as 'XXL'). The simplest way to do it is by plotting and changing the parameters.\n",
    "\n",
    "One column will be enough for this analysis."
   ]
  },
  {
   "cell_type": "code",
   "execution_count": 20,
   "metadata": {},
   "outputs": [
    {
     "data": {
      "text/plain": [
       "permits    1632\n",
       "dtype: int64"
      ]
     },
     "execution_count": 20,
     "metadata": {},
     "output_type": "execute_result"
    }
   ],
   "source": [
    "reported_costs = permits.loc[:, ['reported_cost']]\n",
    "mper = {'reported_cost': 'permits'}\n",
    "reported_costs = reported_costs.rename(mapper=mper, axis='columns')\n",
    "reported_costs.count(axis='index')"
   ]
  },
  {
   "cell_type": "code",
   "execution_count": 21,
   "metadata": {},
   "outputs": [
    {
     "data": {
      "text/plain": [
       "permits    552\n",
       "dtype: int64"
      ]
     },
     "execution_count": 21,
     "metadata": {},
     "output_type": "execute_result"
    }
   ],
   "source": [
    "S_M = reported_costs[reported_costs['permits'] < 50000]\n",
    "S_M.count()"
   ]
  },
  {
   "cell_type": "code",
   "execution_count": 22,
   "metadata": {},
   "outputs": [],
   "source": [
    "# prepare to plot\n",
    "font_d = {'family': 'serif', 'color':  'black', 'weight': 'normal', 'size': 16}"
   ]
  },
  {
   "cell_type": "code",
   "execution_count": 23,
   "metadata": {},
   "outputs": [
    {
     "data": {
      "image/png": "[encoded data removed]",
      "text/plain": [
       "<Figure size 720x720 with 1 Axes>"
      ]
     },
     "metadata": {
      "needs_background": "light"
     },
     "output_type": "display_data"
    }
   ],
   "source": [
    "Fig_1 = S_M.plot.hist(bins=10, histtype='step', figsize=(10, 10))\n",
    "Fig_1.set_title(\"Number of 'S'-'M' permits\", fontdict=font_d)\n",
    "Fig_1.set_xlabel('Reported Costs of the permits')\n",
    "Fig_1.set_ylabel('Number of permits in a bin')\n",
    "plt.show()"
   ]
  },
  {
   "cell_type": "code",
   "execution_count": 24,
   "metadata": {},
   "outputs": [
    {
     "data": {
      "text/plain": [
       "permits    604\n",
       "dtype: int64"
      ]
     },
     "execution_count": 24,
     "metadata": {},
     "output_type": "execute_result"
    }
   ],
   "source": [
    "L = reported_costs[(reported_costs['permits'] >= 50000) & (reported_costs['permits'] < 500000)]\n",
    "L.count()"
   ]
  },
  {
   "cell_type": "code",
   "execution_count": 25,
   "metadata": {},
   "outputs": [
    {
     "data": {
      "image/png": "[encoded data removed]",
      "text/plain": [
       "<Figure size 720x720 with 1 Axes>"
      ]
     },
     "metadata": {
      "needs_background": "light"
     },
     "output_type": "display_data"
    }
   ],
   "source": [
    "Fig_2 = L.plot.hist(bins=10, histtype='step', figsize=(10, 10))\n",
    "Fig_2.set_title(\"Number of 'L' permits\", fontdict=font_d)\n",
    "Fig_2.set_xlabel('Reported Costs of the permits')\n",
    "Fig_2.set_ylabel('Number of permits in a bin')\n",
    "plt.show()"
   ]
  },
  {
   "cell_type": "markdown",
   "metadata": {},
   "source": [
    "Here you can see the 'psychological' spike between $50k and $100k that is what in the mind of ordinary people constitutes a 'New Construction'. :)\n",
    "\n",
    "Next - the XL range."
   ]
  },
  {
   "cell_type": "code",
   "execution_count": 26,
   "metadata": {},
   "outputs": [
    {
     "data": {
      "text/plain": [
       "permits    384\n",
       "dtype: int64"
      ]
     },
     "execution_count": 26,
     "metadata": {},
     "output_type": "execute_result"
    }
   ],
   "source": [
    "XL_without_XXL = reported_costs[(reported_costs['permits'] >= 500000) & (reported_costs['permits'] < 5000000)]\n",
    "XL_without_XXL.count()"
   ]
  },
  {
   "cell_type": "code",
   "execution_count": 27,
   "metadata": {},
   "outputs": [
    {
     "data": {
      "image/png": "[encoded data removed]",
      "text/plain": [
       "<Figure size 720x720 with 1 Axes>"
      ]
     },
     "metadata": {
      "needs_background": "light"
     },
     "output_type": "display_data"
    }
   ],
   "source": [
    "Fig_3 = XL_without_XXL.plot.hist(bins=10, histtype='step', figsize=(10, 10))\n",
    "Fig_3.set_title(\"Number of 'XL' permits\", fontdict=font_d)\n",
    "Fig_3.set_xlabel('Reported Costs of the permits')\n",
    "Fig_3.set_ylabel('Number of permits in a bin')\n",
    "plt.show()"
   ]
  },
  {
   "cell_type": "markdown",
   "metadata": {},
   "source": [
    "Again, it is very visible that $500k is the 'psychological boundary' between L and XL."
   ]
  },
  {
   "cell_type": "code",
   "execution_count": 28,
   "metadata": {},
   "outputs": [
    {
     "data": {
      "text/plain": [
       "permits    92\n",
       "dtype: int64"
      ]
     },
     "execution_count": 28,
     "metadata": {},
     "output_type": "execute_result"
    }
   ],
   "source": [
    "XXL = reported_costs[(reported_costs['permits'] >= 5000000) & (reported_costs['permits'] < 500000000)]\n",
    "XXL.count()"
   ]
  },
  {
   "cell_type": "code",
   "execution_count": 29,
   "metadata": {},
   "outputs": [
    {
     "data": {
      "image/png": "[encoded data removed]",
      "text/plain": [
       "<Figure size 720x720 with 1 Axes>"
      ]
     },
     "metadata": {
      "needs_background": "light"
     },
     "output_type": "display_data"
    }
   ],
   "source": [
    "Fig_4 = XXL.plot.hist(bins=5, histtype='step', figsize=(10, 10))\n",
    "Fig_4.set_title(\"Number of 'XXL' permits\", fontdict=font_d)\n",
    "Fig_4.set_xlabel('Reported Costs of the permits')\n",
    "Fig_4.set_ylabel('Number of permits in a bin')\n",
    "plt.show()"
   ]
  },
  {
   "cell_type": "markdown",
   "metadata": {},
   "source": [
    "These are, obviously, very rare events (in this category) already."
   ]
  },
  {
   "cell_type": "code",
   "execution_count": 16,
   "metadata": {},
   "outputs": [
    {
     "name": "stdout",
     "output_type": "stream",
     "text": [
      "Fin\n"
     ]
    }
   ],
   "source": [
    "print('Fin')"
   ]
  }
 ],
 "metadata": {
  "kernelspec": {
   "display_name": "Python 3",
   "language": "python",
   "name": "python3"
  },
  "language_info": {
   "codemirror_mode": {
    "name": "ipython",
    "version": 3
   },
   "file_extension": ".py",
   "mimetype": "text/x-python",
   "name": "python",
   "nbconvert_exporter": "python",
   "pygments_lexer": "ipython3",
   "version": "3.7.5"
  },
  "widgets": {
   "application/vnd.jupyter.widget-state+json": {
    "state": {},
    "version_major": 2,
    "version_minor": 0
   }
  }
 },
 "nbformat": 4,
 "nbformat_minor": 4
}
